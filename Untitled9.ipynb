{
  "cells": [
    {
      "cell_type": "markdown",
      "metadata": {
        "id": "view-in-github",
        "colab_type": "text"
      },
      "source": [
        "<a href=\"https://colab.research.google.com/github/steghg30/davidada/blob/main/Untitled9.ipynb\" target=\"_parent\"><img src=\"https://colab.research.google.com/assets/colab-badge.svg\" alt=\"Open In Colab\"/></a>"
      ]
    },
    {
      "cell_type": "code",
      "execution_count": 26,
      "metadata": {
        "id": "3SXIH-ocXno3"
      },
      "outputs": [],
      "source": [
        "from IPython.core.magics import auto\n",
        "def menu():\n",
        "    nombre_lista = [\"Auto seguro\"]\n",
        "\n",
        "\n",
        "    while True:\n",
        "        print(\"Bienvenido a la automotora Auto Seguro, por favor registre datos de vehiculo\")\n",
        "        print(\"1.opcion, tipo de Vehiculo\")\n",
        "        print(\"2.opcion, patente de Vehiculo \")\n",
        "        print(\"3.opcion, marca y precio\")\n",
        "        print(\"4.opcion, multas (monto y fecha)\")\n",
        "        print(\"5.opcion, fecha de registro y nombre del dueño\")\n",
        "        print(\"6.opcion, salir\")\n",
        "\n",
        "        opc = int(input(\"ingrese tipo y patente de vehiculo\"))\n",
        "\n",
        "        def tipo_Vehiculo():\n",
        "           Vehiculo1 = int(input(\"ingrese tipo de Vehiculo: \"))\n",
        "           patente_Vehiculo = int(input(\"ingrese patente de Vehiculo: \"))\n",
        "\n",
        "           print(\"la patente ingresa pertecena al tipo de auto: \", tipo_Vehiculo(Vehiculo1, patente_Vehiculo))\n",
        "\n",
        "        def mostrar_marca_precio():\n",
        "          marca_precio = input(\" escriba la marca del Vehiculo: \")\n",
        "          marca_precio = input(\" buscar el precio por marca y tipo de vehiculo \")\n",
        "\n",
        "          print(\"la marca y precio del vehiculo sellecionado es: \", marca_precio( vehiculo, precio))\n",
        "\n",
        "        def multas_monto_fecha():\n",
        "          multas_monto_fecha = int(input(\" ver registro de multas \"))\n",
        "          multas_monto_fecha = int(input(\" buscar fecha y monto de la multa\"))\n",
        "\n",
        "          print(\"la fecha y el monto de la multa es: \", multa( fecha, monto))\n",
        "\n",
        "\n",
        "\n",
        "\n",
        "\n",
        "\n",
        ""
      ]
    },
    {
      "cell_type": "code",
      "source": [],
      "metadata": {
        "id": "PjuX1yrxnKYj"
      },
      "execution_count": null,
      "outputs": []
    },
    {
      "cell_type": "code",
      "source": [],
      "metadata": {
        "id": "geeWnD0yl7Ju"
      },
      "execution_count": null,
      "outputs": []
    },
    {
      "cell_type": "code",
      "source": [],
      "metadata": {
        "id": "PwQfwC0JWDC1"
      },
      "execution_count": null,
      "outputs": []
    },
    {
      "cell_type": "code",
      "execution_count": null,
      "metadata": {
        "colab": {
          "background_save": true
        },
        "id": "IS-GlK8BZWHJ"
      },
      "outputs": [],
      "source": [
        "\n"
      ]
    }
  ],
  "metadata": {
    "colab": {
      "provenance": [],
      "authorship_tag": "ABX9TyNN7WSVyWUwG61LfE0sC4mI",
      "include_colab_link": true
    },
    "kernelspec": {
      "display_name": "Python 3",
      "name": "python3"
    },
    "language_info": {
      "name": "python"
    }
  },
  "nbformat": 4,
  "nbformat_minor": 0
}